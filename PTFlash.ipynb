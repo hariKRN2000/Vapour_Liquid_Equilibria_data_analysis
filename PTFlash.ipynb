{
 "cells": [
  {
   "cell_type": "code",
   "execution_count": 1,
   "metadata": {},
   "outputs": [],
   "source": [
    "import scipy\n",
    "import scipy.optimize as scopt\n",
    "import numpy as np\n",
    "import matplotlib.pyplot as plt\n",
    "import pandas as pd\n",
    "#import eosHSG as eos\n",
    "from NRTL import NRTL\n",
    "\n",
    "from NRTL import NRTL\n",
    "from PureComponentData import purecomponentdata"
   ]
  },
  {
   "cell_type": "code",
   "execution_count": 2,
   "metadata": {},
   "outputs": [],
   "source": [
    "water = purecomponentdata.Compound(\"Water\")\n",
    "ipa = purecomponentdata.Compound(\"2-Propanol\")\n",
    "dict_compounds = {\"water\":water, \"ipa\":ipa}"
   ]
  },
  {
   "cell_type": "code",
   "execution_count": 3,
   "metadata": {},
   "outputs": [],
   "source": [
    "nrtl = NRTL.NRTL([\"ipa\",\"water\"])"
   ]
  },
  {
   "cell_type": "code",
   "execution_count": 4,
   "metadata": {},
   "outputs": [],
   "source": [
    "nrtl.populate_matrix('A', {'ipa-water': [-0.53745742088997905, 3.0540162490081966]})\n",
    "nrtl.populate_matrix('alpha',{'ipa-water': [0.20000000000000001, 0.20000000000000001]})"
   ]
  },
  {
   "cell_type": "code",
   "execution_count": 5,
   "metadata": {},
   "outputs": [
    {
     "data": {
      "text/plain": [
       "{'A': {'ipa-water': [-0.537457420889979, 3.0540162490081966]},\n",
       " 'B': {'ipa-water': [0.0, 0.0]},\n",
       " 'C': {'ipa-water': [0.0, 0.0]},\n",
       " 'D': {'ipa-water': [0.0, 0.0]},\n",
       " 'alpha': {'ipa-water': [0.2, 0.2]}}"
      ]
     },
     "execution_count": 5,
     "metadata": {},
     "output_type": "execute_result"
    }
   ],
   "source": [
    "nrtl.yield_parameters()"
   ]
  },
  {
   "cell_type": "code",
   "execution_count": 6,
   "metadata": {},
   "outputs": [
    {
     "data": {
      "text/plain": [
       "{'ipa': 0, 'water': 1}"
      ]
     },
     "execution_count": 6,
     "metadata": {},
     "output_type": "execute_result"
    }
   ],
   "source": [
    "nrtl.dict_component_index"
   ]
  },
  {
   "cell_type": "markdown",
   "metadata": {},
   "source": [
    "## Getting Bubble Point and Dew Point"
   ]
  },
  {
   "cell_type": "code",
   "execution_count": null,
   "metadata": {},
   "outputs": [],
   "source": []
  },
  {
   "cell_type": "markdown",
   "metadata": {},
   "source": [
    "## Bubble Point\n",
    "We now need to determine the temperature at which the first bubble appears\n",
    "$$\n",
    "        P_{Total} = \\sum_{i=1}^{N} \\gamma_i x_i P_i^{sat}(T)\n",
    "$$"
   ]
  },
  {
   "cell_type": "code",
   "execution_count": 7,
   "metadata": {},
   "outputs": [],
   "source": [
    "def get_residual_bubblepoint(T, dict_molfractions, nrtl, Ptotal):\n",
    "    dict_gammas = nrtl.get_gammas(T, dict_molfractions)\n",
    "    P = 0.0\n",
    "    for name in dict_molfractions:\n",
    "        P += dict_gammas[name]*dict_molfractions[name]*dict_compounds[name].Pvap(T)\n",
    "    return Ptotal - P\n",
    "\n",
    "def get_bubble_point(Ptotal, dict_molfractions):    \n",
    "    Tbubble = scopt.newton(get_residual_bubblepoint, 300.0, args = (dict_molfractions, nrtl, Ptotal))\n",
    "    return Tbubble\n",
    "\n",
    "\n",
    "    "
   ]
  },
  {
   "cell_type": "code",
   "execution_count": 8,
   "metadata": {},
   "outputs": [
    {
     "data": {
      "text/plain": [
       "80.14462052683132"
      ]
     },
     "execution_count": 8,
     "metadata": {},
     "output_type": "execute_result"
    }
   ],
   "source": [
    "dict_molfractions = {\"water\":1-0.682, \"ipa\":0.682}\n",
    "Ptotal = 1.013e5 #Pa\n",
    "get_bubble_point(Ptotal, dict_molfractions)-273.16"
   ]
  },
  {
   "cell_type": "markdown",
   "metadata": {},
   "source": [
    "## Dew Point\n",
    "We now need to determine the temperature at which the final drop disappears.  We have\n",
    "$$\n",
    "            P_{Total}y_i = \\gamma_i x_i P_i^{sat}(T)\n",
    "$$\n",
    "We have to solve:\n",
    "$$\n",
    "            \\sum_{i=1}^N \\frac{P_{Total}y_i}{\\gamma_i P_i^{sat}(T)} = 1\n",
    "$$\n"
   ]
  },
  {
   "cell_type": "code",
   "execution_count": 9,
   "metadata": {},
   "outputs": [],
   "source": [
    "def get_residual_dewpoint(T, dict_molfractionsV, dict_molfractionsL, nrtl, Ptotal):\n",
    "    gammas = nrtl.get_gammas(T, dict_molfractionsL)\n",
    "    summ = 0.0\n",
    "    for name in dict_molfractionsL:\n",
    "        s = Ptotal * dict_molfractionsV[name] / gammas[name] / dict_compounds[name].Pvap(T)\n",
    "        summ += s\n",
    "    return summ - 1\n",
    "\n",
    "def get_dew_point(Ptotal, dict_molfractions):\n",
    "    bool_go = True\n",
    "    dict_molfractionsL = dict_molfractions.copy()\n",
    "    dict_molfractionsV = dict_molfractions.copy()\n",
    "    Told = 300.0\n",
    "    while bool_go:\n",
    "        T = scopt.newton(get_residual_dewpoint, Told, args=(dict_molfractionsV, dict_molfractionsL, nrtl, Ptotal))\n",
    "        gammas = nrtl.get_gammas(T, dict_molfractionsL)\n",
    "        sumx = 0.0\n",
    "        for name in dict_molfractionsV:\n",
    "            x = Ptotal * dict_molfractionsV[name] / gammas[name] / dict_compounds[name].Pvap(T)\n",
    "            dict_molfractionsL[name] = x\n",
    "            sumx += x\n",
    "        for name in dict_molfractionsL:\n",
    "            dict_molfractionsL[name] /= sumx\n",
    "        \n",
    "        if abs(T - Told) < 0.1:\n",
    "            bool_go = False\n",
    "        else:\n",
    "            Told = T + 0.0\n",
    "    return T\n",
    "        "
   ]
  },
  {
   "cell_type": "code",
   "execution_count": 10,
   "metadata": {},
   "outputs": [
    {
     "data": {
      "text/plain": [
       "80.16284819791167"
      ]
     },
     "execution_count": 10,
     "metadata": {},
     "output_type": "execute_result"
    }
   ],
   "source": [
    "dict_molfractions = {\"water\":1-0.682, \"ipa\":0.682}\n",
    "Ptotal = 1.013e5 #Pa\n",
    "get_dew_point(Ptotal, dict_molfractions)-273.16"
   ]
  },
  {
   "cell_type": "markdown",
   "metadata": {},
   "source": [
    "# P-T Flash\n",
    "We are given a stream with known $P_{Total}$, known $T$ and known composition $\\{z_i\\}$.  We want to know how this stream divides into a vapour and a liquid phase and what its resulting enthalpy is.  Let a fraction $\\beta$ of the incoming stream vapourize.  Hence, $F = V + L = \\beta F + (1-\\beta)F$.  The component mole balance is:\n",
    "$$\n",
    "                Fz_i = Vy_i + Lx_i\n",
    "$$\n",
    "Equilibrium gives:\n",
    "$$\n",
    "                y_i = K_i x_i\n",
    "$$\n",
    "Substituting:\n",
    "$$\n",
    "                Fz_i = \\beta F K_i x_i + (1-\\beta) F x_i\n",
    "$$\n",
    "i.e. rearranging\n",
    "$$\n",
    "                x_i = \\frac{z_i}{1 +\\beta (K_i-1)}\n",
    "$$\n",
    "Hence,\n",
    "$$\n",
    "                y_i = K_i x_i = \\frac{K_iz_i}{1 +\\beta (K_i-1)}\n",
    "$$\n",
    "Since $\\sum_{i=1}^N (y_i-x_i) = 0$, hence,\n",
    "$$\n",
    "              \\sum_{i=1}^N\\frac{(K_i-1)z_i}{1 +\\beta (K_i-1)} = 0 \n",
    "$$\n",
    "This is the famous Rachford Rice Equation.\n",
    "\n",
    "Let us call $S = \\sum_{i=1}^N\\frac{(K_i-1)z_i}{1 +\\beta (K_i-1)}$.  Hence,\n",
    "$$\n",
    "    \\frac{dS}{d\\beta} = -\\sum_{i=1}^N\\frac{z_i(K_i-1)^2}{(1 +\\beta (K_i-1))^2}\n",
    "$$\n",
    "This derivative is always negative!  i.e. Newton Raphson is always monotonous.  We are guaranteed a solution of $\\beta$.\n",
    "Once we have a value of $\\beta$, we can use it to find $x_i$ from:\n",
    "$$\n",
    "                x_i = \\frac{z_i}{1 +\\beta (K_i-1)}\n",
    "$$\n",
    "And we can get our new values of $K_i$.  And the iterations continue until we get no improvement in the value of $\\beta$.\n",
    "Note for low pressures and reasonably high temperatures:\n",
    "$$\n",
    "                K_i = \\gamma_i P_i^{sat}/P_{Total}\n",
    "$$"
   ]
  },
  {
   "cell_type": "code",
   "execution_count": 11,
   "metadata": {},
   "outputs": [],
   "source": [
    "def get_K(T, P_total, dict_molfractions):\n",
    "    gammas = nrtl.get_gammas(T, dict_molfractions)\n",
    "    K = {}\n",
    "    for name in gammas:\n",
    "        K[name] = dict_compounds[name].Pvap(T)*gammas[name] / P_total\n",
    "    return K\n",
    "    \n",
    "def residual_beta(beta, z, K):\n",
    "    S = 0\n",
    "    for name in z:\n",
    "        S += (K[name] - 1)*z[name]/(1+beta*(K[name]-1))\n",
    "    return S\n",
    "\n",
    "def get_beta(z, K, betaguess = 0.5):\n",
    "    beta = scopt.fsolve(residual_beta, betaguess, args = (z, K))\n",
    "    return beta\n",
    "\n",
    "def get_x(z, K, beta):\n",
    "    x = {}\n",
    "    for name in z:\n",
    "        x[name] = z[name]/(1+beta*(K[name]-1))\n",
    "    return x\n",
    "    "
   ]
  },
  {
   "cell_type": "code",
   "execution_count": 12,
   "metadata": {},
   "outputs": [],
   "source": [
    "Ptotal = 1.013e5 #Pa\n",
    "T = 90 + 273.16 #K\n",
    "F = 1.0 #kmol/s\n",
    "dict_molfractions = {\"water\":0.7, \"ipa\":1-0.7}"
   ]
  },
  {
   "cell_type": "code",
   "execution_count": null,
   "metadata": {},
   "outputs": [],
   "source": []
  },
  {
   "cell_type": "code",
   "execution_count": 13,
   "metadata": {},
   "outputs": [],
   "source": [
    "def flash_PT(T, Ptotal, dict_molfractions):\n",
    "    Tbubble = get_bubble_point(Ptotal, dict_molfractions)\n",
    "    Tdew = get_dew_point(Ptotal, dict_molfractions)\n",
    "\n",
    "    if T >= Tdew:\n",
    "        beta = 1 \n",
    "        x = 'junk'\n",
    "        y = dict_molfractions.copy()\n",
    "    elif T <= Tbubble:\n",
    "        beta = 0\n",
    "        y = 'junk'\n",
    "        x = dict_molfractions.copy()\n",
    "    else:\n",
    "        betaguess = (T - Tbubble)/(Tdew - Tbubble)\n",
    "        K = get_K(T, Ptotal, dict_molfractions) #starting guess of K\n",
    "        bool_go = True\n",
    "        while bool_go:\n",
    "            beta = get_beta(dict_molfractions, K, betaguess = betaguess)\n",
    "            x = get_x(dict_molfractions, K, beta)\n",
    "            #print(beta, betaguess)\n",
    "            if abs(beta - betaguess)/beta < 0.001:\n",
    "                bool_go = False\n",
    "            else:\n",
    "                betaguess = beta + 0.0\n",
    "                K = get_K(T, Ptotal, x) #update of K\n",
    "        y = {}\n",
    "        for name in x:\n",
    "            y[name] = K[name]*x[name]\n",
    "    return beta,x,y\n",
    "\n"
   ]
  },
  {
   "cell_type": "code",
   "execution_count": 14,
   "metadata": {},
   "outputs": [
    {
     "data": {
      "text/plain": [
       "(array([0.91910203]),\n",
       " {'water': array([0.97288342]), 'ipa': array([0.02711658])},\n",
       " {'water': array([0.67598121]), 'ipa': array([0.32401879])})"
      ]
     },
     "execution_count": 14,
     "metadata": {},
     "output_type": "execute_result"
    }
   ],
   "source": [
    "flash_PT(T, Ptotal, dict_molfractions)"
   ]
  },
  {
   "cell_type": "markdown",
   "metadata": {},
   "source": [
    "# Homework\n",
    "Use flash_PT to calculate the T-x-y diagram and compare with T-x-y diagram obtained from bubble point and dew point"
   ]
  },
  {
   "cell_type": "code",
   "execution_count": 15,
   "metadata": {},
   "outputs": [],
   "source": [
    "x = np.linspace(0,1, 50)\n",
    "Tdew = np.zeros(len(x))\n",
    "Tbub = np.zeros(len(x))\n",
    "Tflash = np.zeros(len(x))\n",
    "\n",
    "\n",
    "Ptotal = 1.013e5 #Pa\n",
    "for i in range(len(x)):\n",
    "    dict_molfractions = {\"ipa\":x[i], \"water\":1-x[i]}\n",
    "    \n",
    "    Tbub[i] =  get_bubble_point(Ptotal, dict_molfractions)-273.16\n",
    "    Tdew[i] =  get_dew_point(Ptotal, dict_molfractions)-273.16\n",
    "    Tflash[i] = (Tdew[i] + Tbub[i])/2 + 273.16"
   ]
  },
  {
   "cell_type": "code",
   "execution_count": 16,
   "metadata": {},
   "outputs": [
    {
     "name": "stderr",
     "output_type": "stream",
     "text": [
      "C:\\Users\\hp1\\AppData\\Roaming\\Python\\Python37\\site-packages\\scipy\\optimize\\minpack.py:175: RuntimeWarning: The iteration is not making good progress, as measured by the \n",
      "  improvement from the last ten iterations.\n",
      "  warnings.warn(msg, RuntimeWarning)\n",
      "C:\\Users\\hp1\\AppData\\Roaming\\Python\\Python37\\site-packages\\scipy\\optimize\\minpack.py:175: RuntimeWarning: The number of calls to function has reached maxfev = 400.\n",
      "  warnings.warn(msg, RuntimeWarning)\n"
     ]
    }
   ],
   "source": [
    "bflash = np.linspace(0,1, 50)\n",
    "xflash = np.linspace(0,1, 50)\n",
    "yflash = np.linspace(0,1, 50)\n",
    "\n",
    "\n",
    "c = 0 \n",
    "for i in range(len(x)):\n",
    "    dict_molfractions = {'ipa':x[i], 'water':1-x[i]}\n",
    "    \n",
    "    b,xf,yf = flash_PT(Tflash[i], Ptotal, dict_molfractions)\n",
    "    if xf=='junk':\n",
    "        xflash[i] = 0 \n",
    "    elif yf=='junk':\n",
    "        yflash[i] = 1\n",
    "    else:\n",
    "        \n",
    "        bflash[i] = b ; xflash[i] = xf['ipa'] ; yflash[i] = yf['ipa']\n",
    "    #print(b, xf, yf)\n",
    "    c+=1"
   ]
  },
  {
   "cell_type": "code",
   "execution_count": 17,
   "metadata": {},
   "outputs": [
    {
     "data": {
      "image/png": "[encoded data removed]",
      "text/plain": [
       "<Figure size 432x288 with 1 Axes>"
      ]
     },
     "metadata": {
      "needs_background": "light"
     },
     "output_type": "display_data"
    }
   ],
   "source": [
    "xflash[-1] = 1\n",
    "yflash[-1] = 1\n",
    "plt.plot(xflash ,yflash)\n",
    "plt.plot([0,1], [0,1])\n",
    "plt.xlabel(\"Liquid phase mole fraction of IPA\")\n",
    "plt.ylabel(\"Vpour phase mole fraction of IPA\")\n",
    "plt.grid()"
   ]
  },
  {
   "cell_type": "code",
   "execution_count": 18,
   "metadata": {},
   "outputs": [
    {
     "data": {
      "text/plain": [
       "[<matplotlib.lines.Line2D at 0x3728a69b08>]"
      ]
     },
     "execution_count": 18,
     "metadata": {},
     "output_type": "execute_result"
    },
    {
     "data": {
      "image/png": "[encoded data removed]",
      "text/plain": [
       "<Figure size 720x576 with 1 Axes>"
      ]
     },
     "metadata": {
      "needs_background": "light"
     },
     "output_type": "display_data"
    }
   ],
   "source": [
    "plt.figure(figsize = (10,8))\n",
    "plt.plot(xflash, Tflash - 273.16, 'b', label = 'x')\n",
    "plt.plot(yflash, Tflash - 273.16, 'r', label = 'y')\n",
    "plt.plot(x, Tdew, 'kx', markersize = 12)\n",
    "plt.plot(x, Tbub, 'kx', markersize = 12)"
   ]
  },
  {
   "cell_type": "code",
   "execution_count": null,
   "metadata": {},
   "outputs": [],
   "source": []
  }
 ],
 "metadata": {
  "kernelspec": {
   "display_name": "Python 3",
   "language": "python",
   "name": "python3"
  },
  "language_info": {
   "codemirror_mode": {
    "name": "ipython",
    "version": 3
   },
   "file_extension": ".py",
   "mimetype": "text/x-python",
   "name": "python",
   "nbconvert_exporter": "python",
   "pygments_lexer": "ipython3",
   "version": "3.7.6"
  }
 },
 "nbformat": 4,
 "nbformat_minor": 4
}
