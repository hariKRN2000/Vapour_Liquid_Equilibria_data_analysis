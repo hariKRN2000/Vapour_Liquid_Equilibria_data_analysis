{
 "cells": [
  {
   "cell_type": "markdown",
   "metadata": {},
   "source": [
    "# The NRTL Thermodynamic Model"
   ]
  },
  {
   "cell_type": "markdown",
   "metadata": {},
   "source": [
    "The NRTL is an activity coefficient model.  For a species $i$ in a mixture of $n$ components, the activity coefficient $\\gamma_i$ is given by:\n",
    "$$\n",
    "    \\ln{\\gamma_i} = \\frac{\\sum_{j=1}^n{x_j\\tau_{ji}G_{ji}}}{\\sum_{k=1}^n{x_kG_{ki}}} + \\sum_{j=1}^n{\\frac{x_jG_{ij}}{\\sum_{k=1}^n{x_kG_{kj}}}}\\left(\\tau_{ij} - \\frac{\\sum_{m=1}^n{x_mG_{mj}\\tau_{mj}}}{\\sum_{k=1}^n{x_kG_{kj}}}\\right)\n",
    "$$\n",
    "where,<br>\n",
    "$G_{ij} = \\exp{\\left(-\\alpha_{ij}\\tau_{ij}\\right)}$ <br>\n",
    "$\\tau_{ij} = a_{ij} + \\frac{b_{ij}}{T} + c_{ij}\\ln{T} + d_{ij}T$ ... Extended Antoine Format: only useful if temperature different is greater than 50 K. <br>\n",
    "$\\alpha_{ij}$ is a non-randomness parameter which is 0 for a random mixture and 0.2 for regular solutions and 0.48 for highly ordered solutions (like highly polar or hydrogen bonded solutions). <br>\n",
    "\n",
    "Generally, $\\alpha_{ij} = \\alpha_{ji}$ but $\\tau_{ij} \\neq \\tau_{ji}$.<br>\n",
    "<br>\n",
    "For two components, $n=2$, this reduces to:\n",
    "$$\n",
    "    \\ln{\\gamma_1} = \\frac{x_1\\tau_{11}G_{11} + x_2\\tau_{21}G_{21}}{x_1G_{11}+x_2G_{21}} + \\frac{x_1G_{11}}{x_1G_{11}+x_2G_{21}}\\left(\\tau_{11} - \\frac{x_1\\tau_{11}G_{11}+x_2\\tau_{21}G_{21}}{x_1G_{11}+x_2G_{21}}\\right) + \\frac{x_2G_{12}}{x_1G_{12}+x_2G_{22}}\\left(\\tau_{12} - \\frac{x_1\\tau_{12}G_{12} + x_2\\tau_{22}G_{22}}{x_1G_{12}+x_2G_{22}} \\right)\n",
    "$$\n",
    "Since $\\tau_{11} = \\tau_{22} = 0$ and $G_{11}=G_{22}=1$,\n"
   ]
  },
  {
   "cell_type": "markdown",
   "metadata": {},
   "source": [
    "$$\n",
    "    \\ln{\\gamma_1} = \\frac{x_2\\tau_{21}G_{21}}{x_1+x_2G_{21}} - \\frac{x_1}{x_1+x_2G_{21}}\\frac{x_2\\tau_{21}G_{21}}{x_1+x_2G_{21}} + \\frac{x_2G_{12}}{x_1G_{12}+x_2}\\tau_{12} - \\frac{x_2G_{12}}{x_1G_{12}+x_2}\\frac{x_1\\tau_{12}G_{12}}{x_1G_{12}+x_2}\n",
    "$$"
   ]
  },
  {
   "cell_type": "markdown",
   "metadata": {},
   "source": [
    "i.e.\n",
    "$$\n",
    "    \\ln{\\gamma_1} = \\frac{x_1x_2\\tau_{21}G_{21}+x_2^2\\tau_{21}G_{21}^2}{\\left(x_1+x_2G_{21}\\right)^2} - \\frac{x_1x_2\\tau_{21}G_{21}}{\\left(x_1+x_2G_{21}\\right)^2} + \\frac{x_2x_1\\tau_{12}G_{12}^2+x_2^2\\tau_{12}G_{12}}{\\left(x_1G_{12}+x_2\\right)^2} - \\frac{x_2x_1\\tau_{12}G_{12}^2}{\\left(x_1G_{12}+x_2\\right)^2}\n",
    "$$"
   ]
  },
  {
   "cell_type": "markdown",
   "metadata": {},
   "source": [
    "i.e.\n",
    "$$\n",
    "    \\ln{\\gamma_1} = \\frac{x_2^2\\tau_{21}G_{21}^2}{\\left(x_1+x_2G_{21}\\right)^2} + \\frac{x_2^2\\tau_{12}G_{12}}{\\left(x_1G_{12}+x_2\\right)^2} = x_2^2\\left(\\frac{\\tau_{21}G_{21}^2}{\\left(x_1+x_2G_{21}\\right)^2} + \\frac{\\tau_{12}G_{12}}{\\left(x_1G_{12}+x_2\\right)^2}\\right)\n",
    "$$"
   ]
  },
  {
   "cell_type": "markdown",
   "metadata": {},
   "source": [
    "And from symmetry we have:\n",
    "$$\n",
    "    \\ln{\\gamma_2} =  x_1^2\\left(\\frac{\\tau_{12}G_{12}^2}{\\left(x_2+x_1G_{12}\\right)^2} + \\frac{\\tau_{21}G_{21}}{\\left(x_2G_{21}+x_1\\right)^2}\\right)\n",
    "$$"
   ]
  },
  {
   "cell_type": "markdown",
   "metadata": {},
   "source": [
    "## NRTL object class\n",
    "We can now define an NRTL object class.  The class takes in a number of species and their names, converts the names into indices (using dictionaries) and generates matrices of {$a_{ij}$}, {$b_{ij}$}, {$c_{ij}$}, {$d_{ij}$} and {$\\alpha_{ij}$}.  It will have a method to populate the matrices by taking in dictionaries of pairwise interactions.  Then it will have another method to generate the $\\gamma_i$ values for a given $T$ and a dictionary of mol-fractions.  <br>\n",
    "The dictionary of pairwise interactions for, say matrix C, is as follows: <br>\n",
    "<code>dict_parameters_C = {\"water-ipa\", [-0.0021, 0.0036], \"water-meoh\",[-0.235, 0.225]}</code> where the first is $C_{water-ipa}$ and the second is $C_{ipa-water}$. <br>\n",
    "To get $\\gamma_i$ values, a dictionary of mol-fractions is passed to the method <code>get_gammas</code>. \n"
   ]
  },
  {
   "cell_type": "markdown",
   "metadata": {},
   "source": [
    "$$\n",
    "    \\ln{\\gamma_i} = \\frac{\\sum_{j=1}^n{x_j\\tau_{ji}G_{ji}}}{\\sum_{k=1}^n{x_kG_{ki}}} + \\left(\\sum_{j=1}^n{\\tau_{ij}G_{ij}\\frac{x_j}{\\sum_{k=1}^n{x_kG_{kj}}}} - \\sum_{j=1}^n{G_{ij}\\frac{x_j}{\\sum_{k=1}^n{x_kG_{kj}}}}\\frac{\\sum_{m=1}^n{x_mG_{mj}\\tau_{mj}}}{\\sum_{k=1}^n{x_kG_{kj}}}\\right)\n",
    "$$\n"
   ]
  },
  {
   "cell_type": "markdown",
   "metadata": {},
   "source": [
    "Let the mole fractions be a column vector $\\mathbf{x}$, the {$\\tau_{ij}$} form a tensor $\\textbf{T}$ while the {$G_{ij}$} form a tensor $\\textbf{G}$. The matrix {$\\tau_{ij}G_{ij}$} is $\\textbf{TG}$.\n",
    "Hence, \n",
    "$$\n",
    "    xTG = \\sum_{j=1}^n{x_j\\tau_{ji}G_{ji}} = \\textbf{x}^T \\cdot \\textbf{TG} \n",
    "$$\n",
    "This is an $1 \\times n$ row vector.\n",
    "$$\n",
    "    xG = \\sum_{j=1}^n{x_jG_{ji}} = \\textbf{x}^T \\cdot \\textbf{G}\n",
    "$$\n",
    "This is also an $1 \\times n$ row vector. <br>\n",
    "Hence the vector $xTG\\_xG = \\left[\\frac{\\sum_{j=1}^n{x_j\\tau_{ji}G_{ji}}}{\\sum_{j=1}^n{x_jG_{ji}}}\\right]$ is also an $1 \\times n$ row vector.\n",
    "The vector $x\\_xG = \\left[\\frac{x_j}{\\sum_{k=1}^n{x_kG_{kj}}}\\right]$ is $\\textbf{x_xG}$ an $n \\times 1$ column vector.\n",
    "Hence,\n",
    "$$\n",
    "    TGx\\_xG = \\sum_{j=1}^n{\\tau_{ij}G_{ij}\\frac{x_j}{\\sum_{k=1}^n{x_kG_{kj}}}} = \\textbf{TG}\\cdot \\textbf{x_xG}\n",
    "$$\n",
    "This is an $n \\times 1$ column vector. <br>\n",
    "Also, $xxTG\\_xG2 =\\left[x_j\\frac{\\sum_{m=1}^n{x_mG_{mj}\\tau_{mj}}}{\\left(\\sum_{k=1}^n{x_kG_{kj}}\\right)^2}\\right]$ is $\\textbf{xxTG_xG2}$ a $n \\times 1$ column vector. \n",
    "Hence:\n",
    "$$\n",
    "    GxxTG\\_xG2 = \\sum_{j=1}^n{G_{ij}x_j\\frac{\\sum_{m=1}^n{x_mG_{mj}\\tau_{mj}}}{\\left(\\sum_{k=1}^n{x_kG_{kj}}\\right)^2}} = \\textbf{G}\\cdot \\textbf{xxTG_xG2}\n",
    "$$\n",
    "This is an $n \\times 1$ column vector.\n"
   ]
  },
  {
   "cell_type": "markdown",
   "metadata": {},
   "source": [
    "Hence:\n",
    "$$\n",
    "    \\mathbf{\\vec{\\ln{\\gamma}}} = xTG\\_xG^T + TGx\\_xG - GxxTG\\_xG2\n",
    "$$"
   ]
  },
  {
   "cell_type": "code",
   "execution_count": 3,
   "metadata": {
    "collapsed": true
   },
   "outputs": [],
   "source": [
    "import scipy\n",
    "import scipy.linalg"
   ]
  },
  {
   "cell_type": "code",
   "execution_count": 4,
   "metadata": {},
   "outputs": [],
   "source": [
    "class NRTL:\n",
    "    def __init__(self, list_of_components):  #list of components are names of the components\n",
    "        self.list_of_components = list_of_components\n",
    "        self.get_matrices(self.list_of_components)\n",
    "    def get_indices(self, list_of_components):\n",
    "        self.list_of_components = list_of_components\n",
    "        self.dict_index_component = {i:name for (i,name) in zip(range(len(list_of_components)), list_of_components)}\n",
    "        self.dict_component_index = {name:i for (i,name) in zip(range(len(list_of_components)), list_of_components)}\n",
    "    def get_matrices(self, list_of_components):\n",
    "        self.get_indices(list_of_components)\n",
    "        n = len(list_of_components)\n",
    "        A = scipy.zeros((n,n))\n",
    "        B = scipy.zeros((n,n))\n",
    "        C = scipy.zeros((n,n))\n",
    "        D = scipy.zeros((n,n))\n",
    "        alpha = scipy.zeros((n,n))\n",
    "        self.dict_matrices = {\"A\":A, \"B\":B, \"C\":C, \"D\":D, \"alpha\":alpha}\n",
    "    def populate_matrix(self, matrix_name, dict_parameters_matrix):\n",
    "        '''\n",
    "        populate_matrix(matrix_name, dict_parameters_matrix)\n",
    "        e.g. \n",
    "        dict_parameters_matrix = {\"water-ipa\", [-0.0021, 0.0036], \"water-meoh\",[-0.235, 0.225]}\n",
    "        matrix_name should be in ['A','B','C','D','alpha']\n",
    "        '''\n",
    "        for key in dict_parameters_matrix:\n",
    "            comp1, comp2 = key.split('-')\n",
    "            index1, index2 = self.dict_component_index[comp1], self.dict_component_index[comp2]\n",
    "            self.dict_matrices[matrix_name][index1, index2] = dict_parameters_matrix[key][0]\n",
    "            self.dict_matrices[matrix_name][index2, index1] = dict_parameters_matrix[key][1]\n",
    "    def yield_parameters(self):\n",
    "        '''\n",
    "        Returns a dictionary with the matrix names ['A','B','C','D','alpha'] as keys.  \n",
    "        Values are other dictionaries with component pairs as keys and the corresponding [1-2, 2-1] interactions tuple as values.\n",
    "        '''\n",
    "        dict_parameters = {\n",
    "            \"A\":{},\n",
    "            \"B\":{},\n",
    "            \"C\":{},\n",
    "            \"D\":{},\n",
    "            \"alpha\":{}\n",
    "        }\n",
    "        for i in range(len(self.list_of_components)):\n",
    "            name_i = self.dict_index_component[i]\n",
    "            for j in range(len(self.list_of_components)):\n",
    "                if j > i:\n",
    "                    name_j = self.dict_index_component[j]\n",
    "                    key = name_i+'-'+name_j\n",
    "                    dict_parameters[\"A\"][key] = [self.dict_matrices[\"A\"][i,j], self.dict_matrices[\"A\"][j,i]]\n",
    "                    dict_parameters[\"B\"][key] = [self.dict_matrices[\"B\"][i,j], self.dict_matrices[\"B\"][j,i]]\n",
    "                    dict_parameters[\"C\"][key] = [self.dict_matrices[\"C\"][i,j], self.dict_matrices[\"C\"][j,i]]\n",
    "                    dict_parameters[\"D\"][key] = [self.dict_matrices[\"D\"][i,j], self.dict_matrices[\"D\"][j,i]]\n",
    "                    dict_parameters[\"alpha\"][key] = [self.dict_matrices[\"alpha\"][i,j], self.dict_matrices[\"alpha\"][j,i]]\n",
    "        return dict_parameters\n",
    "    def get_gammas(self, T, dict_mol_fractions):\n",
    "        n = len(self.list_of_components)\n",
    "        x = scipy.zeros((len(self.list_of_components),1)) # n x 1 vector\n",
    "        for key in dict_mol_fractions:\n",
    "            index = self.dict_component_index[key]\n",
    "            x[index,0] = dict_mol_fractions[key]\n",
    "        \n",
    "        x = x/sum(x) #normalizing x.  n x 1 column vector\n",
    "        \n",
    "        Tau = self.dict_matrices[\"A\"] + self.dict_matrices[\"B\"]/T + self.dict_matrices[\"C\"]*scipy.log(T) + self.dict_matrices[\"D\"]*T\n",
    "        G = scipy.exp(-self.dict_matrices[\"alpha\"]*Tau) #n x n matrices\n",
    "        TG = Tau*G #n x n matrix\n",
    "        \n",
    "        xTG = scipy.dot(x.T, TG).T # n x 1 column vector\n",
    "        xG  = scipy.dot(x.T, G).T  # n x 1 column vector\n",
    "        xTG_xG = xTG/xG          # n x 1 row vector\n",
    "        x_xG = x/xG              # n x 1 column vector \n",
    "        TGx_xG = scipy.dot(TG, x_xG) #n x 1 column vector\n",
    "        xxTG_xG2 = x*xTG/(xG*xG) #n x 1 column vector\n",
    "        GxxTG_xG2 = scipy.dot(G, xxTG_xG2) #n x 1 column vector\n",
    "        \n",
    "        matrix_log_gamma = xTG_xG + TGx_xG - GxxTG_xG2 #n x 1 column vector\n",
    "        \n",
    "        array_log_gamma = matrix_log_gamma.reshape((n,))\n",
    "        array_gamma = scipy.exp(array_log_gamma)\n",
    "        dict_gamma = {name:gamma for (name, gamma) in zip([self.dict_index_component[index] for index in range(n)],array_gamma)}\n",
    "        return dict_gamma"
   ]
  },
  {
   "cell_type": "markdown",
   "metadata": {},
   "source": [
    "nrtl = NRTL([\"water\", \"ipa\"])"
   ]
  },
  {
   "cell_type": "markdown",
   "metadata": {},
   "source": [
    "nrtl.dict_component_index"
   ]
  },
  {
   "cell_type": "markdown",
   "metadata": {},
   "source": [
    "nrtl.dict_index_component"
   ]
  },
  {
   "cell_type": "markdown",
   "metadata": {},
   "source": [
    "dict_params = {\"water-ipa\":[-0.0023, 0.0035]}\n",
    "nrtl.populate_matrix(\"A\", dict_params)"
   ]
  },
  {
   "cell_type": "markdown",
   "metadata": {},
   "source": [
    "nrtl.dict_matrices[\"A\"]"
   ]
  },
  {
   "cell_type": "markdown",
   "metadata": {},
   "source": [
    "dict_params = {\"water-ipa\":[0.3, 0.3]}\n",
    "nrtl.populate_matrix(\"alpha\", dict_params)"
   ]
  },
  {
   "cell_type": "markdown",
   "metadata": {},
   "source": [
    "nrtl.populate_matrix(\"D\",{\"ipa-water\":[5.0,6.0]})\n",
    "nrtl.dict_matrices[\"D\"]"
   ]
  },
  {
   "cell_type": "markdown",
   "metadata": {},
   "source": [
    "x = scipy.zeros((4,1))\n",
    "x[2,0] = 3\n",
    "x[0,0] = 4\n",
    "x[1,0] = 6\n",
    "x[3,0] = 8"
   ]
  },
  {
   "cell_type": "markdown",
   "metadata": {},
   "source": [
    "x = x/sum(x)"
   ]
  },
  {
   "cell_type": "markdown",
   "metadata": {},
   "source": [
    "x.reshape((4,))"
   ]
  },
  {
   "cell_type": "markdown",
   "metadata": {},
   "source": [
    "x.reshape((1,4))\n",
    "x[0,0]"
   ]
  },
  {
   "cell_type": "markdown",
   "metadata": {},
   "source": [
    "nrtl.get_gammas(300.0, {\"water\":0.5, \"ipa\":0.001})"
   ]
  },
  {
   "cell_type": "markdown",
   "metadata": {},
   "source": [
    "0.2*1.00069024*(-0.0023)+0.8*1*0"
   ]
  },
  {
   "cell_type": "markdown",
   "metadata": {},
   "source": [
    "nrtl.yield_parameters()"
   ]
  },
  {
   "cell_type": "markdown",
   "metadata": {},
   "source": []
  }
 ],
 "metadata": {
  "kernelspec": {
   "display_name": "Python 3",
   "language": "python",
   "name": "python3"
  },
  "language_info": {
   "codemirror_mode": {
    "name": "ipython",
    "version": 3
   },
   "file_extension": ".py",
   "mimetype": "text/x-python",
   "name": "python",
   "nbconvert_exporter": "python",
   "pygments_lexer": "ipython3",
   "version": "3.7.6"
  }
 },
 "nbformat": 4,
 "nbformat_minor": 2
}
