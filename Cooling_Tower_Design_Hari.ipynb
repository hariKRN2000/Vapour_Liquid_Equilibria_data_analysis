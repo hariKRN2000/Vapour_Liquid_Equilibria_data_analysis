{
 "cells": [
  {
   "cell_type": "markdown",
   "metadata": {},
   "source": [
    "# Cooling Tower Design <br> Harikrishnan R N , 18CHE147 <br> Vyankatesh Puri , 18CHE146"
   ]
  },
  {
   "cell_type": "markdown",
   "metadata": {},
   "source": [
    "## Importing Necessary Modules"
   ]
  },
  {
   "cell_type": "code",
   "execution_count": 1,
   "metadata": {},
   "outputs": [],
   "source": [
    "import numpy as np \n",
    "import matplotlib.pyplot as plt\n",
    "from matplotlib import style\n",
    "from scipy.optimize import fsolve, minimize\n",
    "from scipy.integrate import trapz\n",
    "import pandas as pd\n",
    "from PIL import Image\n",
    "import openpyxl\n",
    "import warnings\n",
    "warnings.filterwarnings(\"ignore\", category=np.VisibleDeprecationWarning) \n",
    "\n",
    "\n",
    "\n",
    "%config InlineBackend.figure_format = 'retina'\n",
    "\n",
    "style.use(\"classic\")\n",
    "\n",
    "%matplotlib inline"
   ]
  },
  {
   "cell_type": "markdown",
   "metadata": {},
   "source": [
    "## Defining the Process Parameters and Constants"
   ]
  },
  {
   "cell_type": "code",
   "execution_count": 2,
   "metadata": {},
   "outputs": [
    {
     "ename": "FileNotFoundError",
     "evalue": "[Errno 2] No such file or directory: 'Cooling_Tower.xlsx'",
     "output_type": "error",
     "traceback": [
      "\u001b[1;31m---------------------------------------------------------------------------\u001b[0m",
      "\u001b[1;31mFileNotFoundError\u001b[0m                         Traceback (most recent call last)",
      "\u001b[1;32m<ipython-input-2-2469690af3e3>\u001b[0m in \u001b[0;36m<module>\u001b[1;34m\u001b[0m\n\u001b[0;32m      1\u001b[0m \u001b[1;32mfrom\u001b[0m \u001b[0mopenpyxl\u001b[0m \u001b[1;32mimport\u001b[0m \u001b[0mload_workbook\u001b[0m\u001b[1;33m\u001b[0m\u001b[1;33m\u001b[0m\u001b[0m\n\u001b[1;32m----> 2\u001b[1;33m \u001b[0mworkbook\u001b[0m \u001b[1;33m=\u001b[0m \u001b[0mload_workbook\u001b[0m\u001b[1;33m(\u001b[0m \u001b[0mfilename\u001b[0m \u001b[1;33m=\u001b[0m \u001b[1;34m\"Cooling_Tower.xlsx\"\u001b[0m\u001b[1;33m)\u001b[0m\u001b[1;33m\u001b[0m\u001b[1;33m\u001b[0m\u001b[0m\n\u001b[0m\u001b[0;32m      3\u001b[0m \u001b[0msheet\u001b[0m \u001b[1;33m=\u001b[0m \u001b[0mworkbook\u001b[0m\u001b[1;33m[\u001b[0m\u001b[1;34m'Design_Specs'\u001b[0m\u001b[1;33m]\u001b[0m\u001b[1;33m\u001b[0m\u001b[1;33m\u001b[0m\u001b[0m\n\u001b[0;32m      4\u001b[0m \u001b[1;33m\u001b[0m\u001b[0m\n\u001b[0;32m      5\u001b[0m \u001b[0mTd_air_in\u001b[0m \u001b[1;33m=\u001b[0m \u001b[0msheet\u001b[0m\u001b[1;33m[\u001b[0m\u001b[1;34m'D3'\u001b[0m\u001b[1;33m]\u001b[0m\u001b[1;33m.\u001b[0m\u001b[0mvalue\u001b[0m \u001b[1;31m#31 # degCelcius, Dry bulb Temperature of inlet Air\u001b[0m\u001b[1;33m\u001b[0m\u001b[1;33m\u001b[0m\u001b[0m\n",
      "\u001b[1;32m~\\AppData\\Roaming\\Python\\Python37\\site-packages\\openpyxl\\reader\\excel.py\u001b[0m in \u001b[0;36mload_workbook\u001b[1;34m(filename, read_only, keep_vba, data_only, keep_links)\u001b[0m\n\u001b[0;32m    314\u001b[0m     \"\"\"\n\u001b[0;32m    315\u001b[0m     reader = ExcelReader(filename, read_only, keep_vba,\n\u001b[1;32m--> 316\u001b[1;33m                         data_only, keep_links)\n\u001b[0m\u001b[0;32m    317\u001b[0m     \u001b[0mreader\u001b[0m\u001b[1;33m.\u001b[0m\u001b[0mread\u001b[0m\u001b[1;33m(\u001b[0m\u001b[1;33m)\u001b[0m\u001b[1;33m\u001b[0m\u001b[1;33m\u001b[0m\u001b[0m\n\u001b[0;32m    318\u001b[0m     \u001b[1;32mreturn\u001b[0m \u001b[0mreader\u001b[0m\u001b[1;33m.\u001b[0m\u001b[0mwb\u001b[0m\u001b[1;33m\u001b[0m\u001b[1;33m\u001b[0m\u001b[0m\n",
      "\u001b[1;32m~\\AppData\\Roaming\\Python\\Python37\\site-packages\\openpyxl\\reader\\excel.py\u001b[0m in \u001b[0;36m__init__\u001b[1;34m(self, fn, read_only, keep_vba, data_only, keep_links)\u001b[0m\n\u001b[0;32m    122\u001b[0m     def __init__(self,  fn, read_only=False, keep_vba=KEEP_VBA,\n\u001b[0;32m    123\u001b[0m                   data_only=False, keep_links=True):\n\u001b[1;32m--> 124\u001b[1;33m         \u001b[0mself\u001b[0m\u001b[1;33m.\u001b[0m\u001b[0marchive\u001b[0m \u001b[1;33m=\u001b[0m \u001b[0m_validate_archive\u001b[0m\u001b[1;33m(\u001b[0m\u001b[0mfn\u001b[0m\u001b[1;33m)\u001b[0m\u001b[1;33m\u001b[0m\u001b[1;33m\u001b[0m\u001b[0m\n\u001b[0m\u001b[0;32m    125\u001b[0m         \u001b[0mself\u001b[0m\u001b[1;33m.\u001b[0m\u001b[0mvalid_files\u001b[0m \u001b[1;33m=\u001b[0m \u001b[0mself\u001b[0m\u001b[1;33m.\u001b[0m\u001b[0marchive\u001b[0m\u001b[1;33m.\u001b[0m\u001b[0mnamelist\u001b[0m\u001b[1;33m(\u001b[0m\u001b[1;33m)\u001b[0m\u001b[1;33m\u001b[0m\u001b[1;33m\u001b[0m\u001b[0m\n\u001b[0;32m    126\u001b[0m         \u001b[0mself\u001b[0m\u001b[1;33m.\u001b[0m\u001b[0mread_only\u001b[0m \u001b[1;33m=\u001b[0m \u001b[0mread_only\u001b[0m\u001b[1;33m\u001b[0m\u001b[1;33m\u001b[0m\u001b[0m\n",
      "\u001b[1;32m~\\AppData\\Roaming\\Python\\Python37\\site-packages\\openpyxl\\reader\\excel.py\u001b[0m in \u001b[0;36m_validate_archive\u001b[1;34m(filename)\u001b[0m\n\u001b[0;32m     94\u001b[0m             \u001b[1;32mraise\u001b[0m \u001b[0mInvalidFileException\u001b[0m\u001b[1;33m(\u001b[0m\u001b[0mmsg\u001b[0m\u001b[1;33m)\u001b[0m\u001b[1;33m\u001b[0m\u001b[1;33m\u001b[0m\u001b[0m\n\u001b[0;32m     95\u001b[0m \u001b[1;33m\u001b[0m\u001b[0m\n\u001b[1;32m---> 96\u001b[1;33m     \u001b[0marchive\u001b[0m \u001b[1;33m=\u001b[0m \u001b[0mZipFile\u001b[0m\u001b[1;33m(\u001b[0m\u001b[0mfilename\u001b[0m\u001b[1;33m,\u001b[0m \u001b[1;34m'r'\u001b[0m\u001b[1;33m)\u001b[0m\u001b[1;33m\u001b[0m\u001b[1;33m\u001b[0m\u001b[0m\n\u001b[0m\u001b[0;32m     97\u001b[0m     \u001b[1;32mreturn\u001b[0m \u001b[0marchive\u001b[0m\u001b[1;33m\u001b[0m\u001b[1;33m\u001b[0m\u001b[0m\n\u001b[0;32m     98\u001b[0m \u001b[1;33m\u001b[0m\u001b[0m\n",
      "\u001b[1;32m~\\anaconda3\\lib\\zipfile.py\u001b[0m in \u001b[0;36m__init__\u001b[1;34m(self, file, mode, compression, allowZip64, compresslevel)\u001b[0m\n\u001b[0;32m   1238\u001b[0m             \u001b[1;32mwhile\u001b[0m \u001b[1;32mTrue\u001b[0m\u001b[1;33m:\u001b[0m\u001b[1;33m\u001b[0m\u001b[1;33m\u001b[0m\u001b[0m\n\u001b[0;32m   1239\u001b[0m                 \u001b[1;32mtry\u001b[0m\u001b[1;33m:\u001b[0m\u001b[1;33m\u001b[0m\u001b[1;33m\u001b[0m\u001b[0m\n\u001b[1;32m-> 1240\u001b[1;33m                     \u001b[0mself\u001b[0m\u001b[1;33m.\u001b[0m\u001b[0mfp\u001b[0m \u001b[1;33m=\u001b[0m \u001b[0mio\u001b[0m\u001b[1;33m.\u001b[0m\u001b[0mopen\u001b[0m\u001b[1;33m(\u001b[0m\u001b[0mfile\u001b[0m\u001b[1;33m,\u001b[0m \u001b[0mfilemode\u001b[0m\u001b[1;33m)\u001b[0m\u001b[1;33m\u001b[0m\u001b[1;33m\u001b[0m\u001b[0m\n\u001b[0m\u001b[0;32m   1241\u001b[0m                 \u001b[1;32mexcept\u001b[0m \u001b[0mOSError\u001b[0m\u001b[1;33m:\u001b[0m\u001b[1;33m\u001b[0m\u001b[1;33m\u001b[0m\u001b[0m\n\u001b[0;32m   1242\u001b[0m                     \u001b[1;32mif\u001b[0m \u001b[0mfilemode\u001b[0m \u001b[1;32min\u001b[0m \u001b[0mmodeDict\u001b[0m\u001b[1;33m:\u001b[0m\u001b[1;33m\u001b[0m\u001b[1;33m\u001b[0m\u001b[0m\n",
      "\u001b[1;31mFileNotFoundError\u001b[0m: [Errno 2] No such file or directory: 'Cooling_Tower.xlsx'"
     ]
    }
   ],
   "source": [
    "from openpyxl import load_workbook\n",
    "workbook = load_workbook( filename = \"Cooling_Tower.xlsx\")\n",
    "sheet = workbook['Design_Specs']\n",
    "\n",
    "Td_air_in = sheet['D3'].value #31 # degCelcius, Dry bulb Temperature of inlet Air\n",
    "Tw_air_in = sheet['D4'].value #22 # degCelcius, Wet bulb Temperature of Inlet Air\n",
    "T_water_out = sheet['D5'].value #30 #degCelcius, Temperature of water in Outlet\n",
    "T_water_in = sheet['D6'].value #45 #degCelcius, Temperature of water in Inlet\n",
    "Lwater = sheet['D7'].value #6000 # kg/m^2hr, Mass flowrate of water\n",
    "Ratio = sheet['D8'].value #1.4   # Ratio between Air flowrate and Minimum needed ar flowrate\n",
    "cwl = sheet['D9'].value #4.178  # kJ/Kg.K , Specific heat of water\n",
    "kya = sheet['D10'].value #6000    # kg/m^3.hr.delY', individual gas phase mass transfer coefficient"
   ]
  },
  {
   "cell_type": "code",
   "execution_count": null,
   "metadata": {},
   "outputs": [],
   "source": [
    "sheet['D10'].value   # Test run"
   ]
  },
  {
   "cell_type": "markdown",
   "metadata": {},
   "source": [
    "## Below I have defined functions to compute the Vapour pressure, Humidity and Enthalpy at Saturation Conditions"
   ]
  },
  {
   "cell_type": "code",
   "execution_count": null,
   "metadata": {},
   "outputs": [],
   "source": [
    "Pt = 760 # mmHg, Atmospheric Pressure\n",
    "def VapourPressure(T):\n",
    "    \"\"\" T in degree Celcius, P in mmHg\"\"\"\n",
    "    A = 18.3036\n",
    "    B = -3816.44\n",
    "    C = -46.13\n",
    "    lnP = A + B/(T+273.16+C)\n",
    "    return np.exp(lnP)\n",
    "\n",
    "def HumiditySat(T):\n",
    "    \"\"\" T in degree Celcius, RH is percentage Relative Humidity\"\"\"\n",
    "    VP = VapourPressure(T)\n",
    "    Y =  (VP/(Pt - VP))*(18.02/28.97)\n",
    "    return Y\n",
    "\n",
    "def EnthalpySat(T):\n",
    "    \"\"\" T in degree Celcius, H in kJ/mol\"\"\"\n",
    "    Y = HumiditySat(T)\n",
    "    H = 2500*Y + (1.005 + 1.88*Y)*T\n",
    "    return H \n",
    " \n",
    "    "
   ]
  },
  {
   "cell_type": "markdown",
   "metadata": {},
   "source": [
    "## Plotting The Saturation Enthalpy Curve"
   ]
  },
  {
   "cell_type": "code",
   "execution_count": null,
   "metadata": {},
   "outputs": [],
   "source": [
    "T = np.linspace(T_water_out*0.8,T_water_in*1.2,100)\n",
    "VP = VapourPressure(T)\n",
    "Y = HumiditySat(T)\n",
    "H = EnthalpySat(T)\n",
    "plt.figure(figsize = (7,7))\n",
    "plt.plot(T, H)\n",
    "plt.xlabel('Temperature, degC', fontsize = 15)\n",
    "plt.ylabel('Saturation Enthalpy, kJ/kg', fontsize = 15)\n",
    "plt.title('Saturation Enthalpy Curve', fontsize = 15)\n",
    "plt.grid('True')\n",
    "plt.savefig('graph_1.png')"
   ]
  },
  {
   "cell_type": "markdown",
   "metadata": {},
   "source": [
    "## We know  $  (T_{G} \\; - \\; T_{S}) \\; = \\; (Y'_{S} \\; - \\; Y')\\frac{\\lambda_{S}}{c_{H}} $ so we have $Y'_{S} \\; , \\; T_{S} \\; and \\; T_{G}.$ we need  $Y'$ <br> Below I have defined functions to compute Humidity, Enthalpy at non saturation conditions, but using Wet Bulb and Dry Bulb Temperature"
   ]
  },
  {
   "cell_type": "code",
   "execution_count": null,
   "metadata": {},
   "outputs": [],
   "source": [
    "def Humidity(Tg, Ts):\n",
    "    Ys = HumiditySat(Ts)\n",
    "    def objective(Y):\n",
    "        f = ((Tg-Ts)*((1.005 + 1.88*Y))/2500) - Ys + Y\n",
    "        return f\n",
    "    Y0 = 0.1*np.ones(Ys.size)\n",
    "    Y = fsolve(objective, Y0)\n",
    "    return Y\n",
    "\n",
    "def Enthalpy(Y,T):\n",
    "    H = 2500*Y + (1.005 + 1.88*Y)*T\n",
    "    return H\n",
    "Tg, Ts = Td_air_in, Tw_air_in"
   ]
  },
  {
   "cell_type": "markdown",
   "metadata": {},
   "source": [
    "## Locating the Point Q (Enthalpy of water at outlet Conditions)"
   ]
  },
  {
   "cell_type": "code",
   "execution_count": null,
   "metadata": {},
   "outputs": [],
   "source": [
    "T = np.linspace(T_water_out*0.8,T_water_in*1.2,100)\n",
    "VP = VapourPressure(T)\n",
    "Y = HumiditySat(T)\n",
    "H = EnthalpySat(T)\n",
    "plt.figure(figsize = (7,7))\n",
    "plt.plot(T, H)\n",
    "plt.scatter([30], [Enthalpy(Humidity(T_water_out,Ts), T_water_out)], marker = \"^\")\n",
    "plt.xlabel('Temperature, degC', fontsize = 15)\n",
    "plt.ylabel('Saturation Enthalpy, kJ/kg', fontsize = 15)\n",
    "plt.title('Saturation Enthalpy Curve', fontsize = 15)\n",
    "plt.grid('True')\n",
    "plt.annotate('Q', xy = (T_water_out*0.95,Enthalpy(Humidity(T_water_out,Ts), T_water_out)*1.1), fontsize = 15);\n",
    "plt.savefig('graph_2.png')"
   ]
  },
  {
   "cell_type": "markdown",
   "metadata": {},
   "source": [
    "## Now we find the line tangent to the Saturation Curve and passes through point Q"
   ]
  },
  {
   "cell_type": "code",
   "execution_count": null,
   "metadata": {},
   "outputs": [],
   "source": [
    "def FindFlowrate(T_out):\n",
    "    Q_T = T_out\n",
    "    Q_H = Enthalpy(Humidity(T_out,Ts), T_out)\n",
    "    def slopediff(T):\n",
    "        h = 0.001\n",
    "        x1 = Q_T\n",
    "        y1 = Q_H\n",
    "        x2 = T\n",
    "        y2 = EnthalpySat(T)\n",
    "        slope1 = (y2-y1)/(x2-x1)\n",
    "        slope2 = (EnthalpySat(T+h)-EnthalpySat(T-h))/(2*h)\n",
    "        error = (slope1 - slope2)**2\n",
    "        return error\n",
    "        \n",
    "    \n",
    "    T0 = T_water_in\n",
    "    temp = minimize(slopediff, T0)\n",
    "    return temp\n",
    "        \n",
    "def FindSlope(T1,T2):\n",
    "    x1 = T1\n",
    "    y1 = Enthalpy(Humidity(T1,Ts), T1)\n",
    "    x2 = T2\n",
    "    y2 = EnthalpySat(T2)\n",
    "    slope = (y2-y1)/(x2-x1)\n",
    "    return slope\n",
    "    \n",
    "    "
   ]
  },
  {
   "cell_type": "code",
   "execution_count": null,
   "metadata": {},
   "outputs": [],
   "source": [
    "temp = FindFlowrate(T_water_out).x\n",
    "m = FindSlope(T_water_out, temp)\n",
    "T1 = np.linspace(T_water_out,temp*1.3,100)\n",
    "plt.figure(figsize = (7,7))\n",
    "plt.plot(T1, EnthalpySat(T1))\n",
    "plt.plot(T1, Enthalpy(Humidity(T_water_out,Ts), T_water_out)+ m*(T1-T1[0]))\n",
    "plt.scatter([30], [Enthalpy(Humidity(T_water_out,Ts), T_water_out)], marker = \"^\")\n",
    "plt.xlabel('Temperature, degC', fontsize = 15)\n",
    "plt.ylabel('Saturation Enthalpy, kJ/kg', fontsize = 15)\n",
    "plt.title('Saturation Enthalpy Curve', fontsize = 15)\n",
    "plt.grid('True')\n",
    "plt.annotate('Q', xy = (T_water_out,Enthalpy(Humidity(T_water_out,Ts), T_water_out)*1.1), fontsize = 15);\n",
    "plt.annotate('Tangent Line', xy = (35,100), fontsize = 15)\n",
    "plt.annotate('Saturation Enthalpy Curve', xy = (35,300), fontsize = 15);\n",
    "plt.savefig('graph_3.png')"
   ]
  },
  {
   "cell_type": "markdown",
   "metadata": {},
   "source": [
    "## This parallel line gives us the slope, which is equal to ratio of Liquid  to minimum gas Flowrates: $ Slope \\; = \\; \\frac{Lc_{wL}}{G_{s,min}} $ <br> From this we get the minimum required gas flowrate:\n"
   ]
  },
  {
   "cell_type": "code",
   "execution_count": null,
   "metadata": {},
   "outputs": [],
   "source": [
    "Gs_min = Lwater*cwl/m\n",
    "Gair = Gs_min*Ratio # Dry basis"
   ]
  },
  {
   "cell_type": "markdown",
   "metadata": {},
   "source": [
    "## Drawing the Operating Line :"
   ]
  },
  {
   "cell_type": "code",
   "execution_count": null,
   "metadata": {},
   "outputs": [],
   "source": [
    "# New slope of operating line will be Ratio (1.4 this case)  times smaller than the slope of the tangent we drew earlier.\n",
    "m2 = m/Ratio \n",
    "# operating line equation : \n",
    "T2 = np.linspace(T_water_out, T_water_in, 100)\n",
    "Op = Enthalpy(Humidity(T_water_out,Ts), T_water_out)+ m2*(T2-T2[0])\n",
    "plt.figure(figsize = (7,7))\n",
    "plt.plot(T2, EnthalpySat(T2))\n",
    "plt.plot(T2, Op)\n",
    "plt.scatter([T_water_out], [Enthalpy(Humidity(T_water_out,Ts), T_water_out)], marker = \"^\", linewidth = 8, color = 'blue')\n",
    "plt.scatter([T_water_in], Op[-1], marker = \"^\", linewidth = 8, color = 'red')\n",
    "plt.xlabel('Temperature, degC', fontsize = 15)\n",
    "plt.ylabel('Enthalpy, kJ/kg', fontsize = 15)\n",
    "plt.title('Saturation Enthalpy and Operating Line', fontsize = 12)\n",
    "plt.grid('True')\n",
    "plt.annotate('Q', xy = (T_water_out,Enthalpy(Humidity(T_water_out,Ts), T_water_out)*1.1), fontsize = 15);\n",
    "plt.annotate('P', xy = (T2[-1], Op[-1]*1.05), fontsize = 15)\n",
    "plt.annotate('Operating Line', xy = (40,100), fontsize = 15)\n",
    "plt.annotate('Saturation Enthalpy Curve ', xy = (36,200), fontsize = 15);\n",
    "plt.savefig('graph_4.png')"
   ]
  },
  {
   "cell_type": "markdown",
   "metadata": {},
   "source": [
    "## Water side heat transfer coefficient is given by the correlation <br> $ h_{L}\\overline{a} \\; = \\; 0.059L^{0.51}G_{S}$"
   ]
  },
  {
   "cell_type": "code",
   "execution_count": null,
   "metadata": {},
   "outputs": [],
   "source": [
    "hla = 0.059*np.power(Lwater, 0.51)*Gair # kcal/hr.m^3\n",
    "hla = hla*4.1858 # kJ/hr.m^3"
   ]
  },
  {
   "cell_type": "markdown",
   "metadata": {},
   "source": [
    "### Slope of Tie-Lines :"
   ]
  },
  {
   "cell_type": "code",
   "execution_count": null,
   "metadata": {},
   "outputs": [],
   "source": [
    "mtie = -hla/kya"
   ]
  },
  {
   "cell_type": "markdown",
   "metadata": {},
   "source": [
    "## We have to make tie lines that start from the operating line that meet the saturation curve at the points $ (T_{L,i} \\; , \\; H'_{i})$ <br> We will define the necessary functions needed below:"
   ]
  },
  {
   "cell_type": "code",
   "execution_count": null,
   "metadata": {},
   "outputs": [],
   "source": [
    "def OpLine(T):\n",
    "    if (T > T_water_in) or (T < T_water_out):\n",
    "        raise ValueError('Please enter value of T within temperature range')\n",
    "    else:\n",
    "        H = Enthalpy(Humidity(T_water_out,Ts), T_water_out)+ m2*(T-T2[0])\n",
    "    return H\n",
    "\n",
    "def TieLine(T):\n",
    "    x1,y1 = T, OpLine(T)\n",
    "    def TieInt(X):\n",
    "        x2, y2 = X[0], X[1]\n",
    "        err1 = y2 - EnthalpySat(x2)\n",
    "        err2 = y1 - y2 + mtie*(x2 - x1)\n",
    "        error = err1,err2\n",
    "        return error\n",
    "    x20,y20 = x1*0.9, y1*1.1\n",
    "    X = np.zeros(2); X[0] = x20; X[1] = y20\n",
    "    sol = fsolve(TieInt, X)\n",
    "    x2,y2 = sol[0], sol[1]\n",
    "    return (x2,y2)\n",
    "    \n",
    "def DrawTie(T):\n",
    "    x1,y1 = T, OpLine(T);\n",
    "    x2,y2 = TieLine(T);\n",
    "    #plt.figure(figsize = (7,7))\n",
    "    plt.plot(T2, EnthalpySat(T2), 'orange');\n",
    "    plt.plot(np.linspace(25,30,100), EnthalpySat(np.linspace(25,30,100)), 'orange');\n",
    "    plt.plot(T2, Op);\n",
    "    plt.plot([x1,x2], [y1,y2], '--k');\n",
    "    \n",
    "    \n",
    "    "
   ]
  },
  {
   "cell_type": "markdown",
   "metadata": {},
   "source": [
    "## A plot with all the Tie Lines"
   ]
  },
  {
   "cell_type": "code",
   "execution_count": null,
   "metadata": {},
   "outputs": [],
   "source": [
    "TieDraw = np.vectorize(DrawTie)\n",
    "T3 = np.linspace(T_water_out, T_water_in, 10, dtype = float)\n",
    "plt.figure(figsize = (7,7));\n",
    "TieDraw(T3);\n",
    "plt.scatter([T_water_out], [Enthalpy(Humidity(T_water_out,Ts), T_water_out)], marker = \"^\", linewidth = 8, color = 'blue');\n",
    "plt.scatter([T_water_in], Op[-1], marker = \"^\", linewidth = 8, color = 'red');\n",
    "plt.xlabel('Temperature, degC', fontsize = 15);\n",
    "plt.ylabel('Enthalpy, kJ/kg', fontsize = 15);\n",
    "plt.title('Saturation Enthalpy Curve, Operating line and Tie Lines', fontsize = 12);\n",
    "plt.grid('True');\n",
    "plt.annotate('Q', xy = (T_water_out,Enthalpy(Humidity(T_water_out,Ts), T_water_out)*1.1), fontsize = 15);\n",
    "plt.annotate('P', xy = (T2[-1], Op[-1]*1.05), fontsize = 15)\n",
    "plt.annotate('Operating Line', xy = (40,120), fontsize = 15);\n",
    "plt.annotate('Saturation Enthalpy Curve', xy = (36,200), fontsize = 15);\n",
    "plt.savefig('graph_5.png')"
   ]
  },
  {
   "cell_type": "markdown",
   "metadata": {},
   "source": [
    "## Now we need to find the values of $ H'_{i} \\; - \\; H'$ <br> After we obtain that, we need to numerically integrate $ \\int_{a}^{b} \\frac{1}{(H'_{i} \\; - \\; H')} $ <br> While doing graphically, we may be limited by number of points to consider, but here, we can take larger number of points, so we will consider a sufficiently large number of points to numerically integrate"
   ]
  },
  {
   "cell_type": "code",
   "execution_count": null,
   "metadata": {},
   "outputs": [],
   "source": [
    "# Defining the function to Integrate\n",
    "TieLine_vec = np.vectorize(TieLine)\n",
    "x2, Hi = TieLine_vec(T2)\n",
    "OpLine_vec = np.vectorize(OpLine)\n",
    "H = OpLine_vec(T2)\n",
    "func = 1/(Hi - H)\n",
    "Integral = trapz(func)"
   ]
  },
  {
   "cell_type": "markdown",
   "metadata": {},
   "source": [
    "## The integral we obtained above is equal to the Number of Gas-Phase Transfer Units $ N_{tG} $ <br> Further Calculations : <br> Height of a transfer unit ($H_{tG}$) = $\\frac{G_{s}}{k_{y*}\\overline{a}}$ <br> Total packed height thus needed, z = $ N_{tG}H_{tG}$"
   ]
  },
  {
   "cell_type": "code",
   "execution_count": null,
   "metadata": {},
   "outputs": [],
   "source": [
    "NTU = Integral \n",
    "HTU = Gair/kya\n",
    "z = NTU*HTU"
   ]
  },
  {
   "cell_type": "markdown",
   "metadata": {},
   "source": [
    "# Final Design Parameters : "
   ]
  },
  {
   "cell_type": "code",
   "execution_count": null,
   "metadata": {},
   "outputs": [],
   "source": [
    "data = {}\n",
    "data['Design Parameter'] = ['Inlet Water Temperature (degC)','Outlet Water Temperature (degC)', \n",
    "                            'Inlet Air Dry bulb Temperature (degC)', 'Inlet Air Wet bulb Temperature (degC)',\n",
    "                            'Inlet Water Flowrate (kg/m^2hr)', 'Inlet Air Flowrate (kg/m^2hr)',\n",
    "                                'NTU', 'HTU', 'Tower Height (m)' ]\n",
    "data['Value']=[T_water_in ,T_water_out, Td_air_in, Tw_air_in, Lwater, round(Gair[0],1), round(NTU,2), round(HTU[0],3), round(z[0],3) ]\n",
    "table = pd.DataFrame(data = data)\n",
    "table"
   ]
  },
  {
   "cell_type": "code",
   "execution_count": null,
   "metadata": {},
   "outputs": [],
   "source": [
    "for i in range(len(table)):\n",
    "    index1 = 'F'+str(i+3)\n",
    "    sheet[index1].value = table['Design Parameter'][i]\n",
    "    index2 = 'G'+str(i+3)\n",
    "    sheet[index2].value = table['Value'][i]\n",
    "    "
   ]
  },
  {
   "cell_type": "code",
   "execution_count": null,
   "metadata": {},
   "outputs": [],
   "source": [
    "img = openpyxl.drawing.image.Image('graph_1.png')\n",
    "img.height = 440 # insert image height in pixels as float or int (e.g. 305.5)\n",
    "img.width = 440  # insert image height in pixels as float or int (e.g. 305.5)\n",
    "img.anchor = 'A13'\n",
    "sheet.add_image(img)\n",
    "\n",
    "img = openpyxl.drawing.image.Image('graph_2.png')\n",
    "img.height = 440 # insert image height in pixels as float or int (e.g. 305.5)\n",
    "img.width = 440  # insert image height in pixels as float or int (e.g. 305.5)\n",
    "img.anchor = 'G13'\n",
    "sheet.add_image(img)\n",
    "\n",
    "img = openpyxl.drawing.image.Image('graph_3.png')\n",
    "img.height = 440 # insert image height in pixels as float or int (e.g. 305.5)\n",
    "img.width = 440  # insert image height in pixels as float or int (e.g. 305.5)\n",
    "img.anchor = 'A36'\n",
    "sheet.add_image(img)\n",
    "\n",
    "img = openpyxl.drawing.image.Image('graph_4.png')\n",
    "img.height = 440 # insert image height in pixels as float or int (e.g. 305.5)\n",
    "img.width = 440  # insert image height in pixels as float or int (e.g. 305.5)\n",
    "img.anchor = 'G36'\n",
    "sheet.add_image(img)\n",
    "\n",
    "img = openpyxl.drawing.image.Image('graph_5.png')\n",
    "img.height = 440 # insert image height in pixels as float or int (e.g. 305.5)\n",
    "img.width = 440  # insert image height in pixels as float or int (e.g. 305.5)\n",
    "img.anchor = 'A57'\n",
    "sheet.add_image(img)\n",
    "\n",
    "\n",
    "#workbook.insert_image('A13','graph_1.png')"
   ]
  },
  {
   "cell_type": "code",
   "execution_count": null,
   "metadata": {},
   "outputs": [],
   "source": [
    "workbook.save('Cooling_Tower.xlsx')"
   ]
  }
 ],
 "metadata": {
  "kernelspec": {
   "display_name": "Python 3",
   "language": "python",
   "name": "python3"
  },
  "language_info": {
   "codemirror_mode": {
    "name": "ipython",
    "version": 3
   },
   "file_extension": ".py",
   "mimetype": "text/x-python",
   "name": "python",
   "nbconvert_exporter": "python",
   "pygments_lexer": "ipython3",
   "version": "3.7.10"
  }
 },
 "nbformat": 4,
 "nbformat_minor": 4
}
